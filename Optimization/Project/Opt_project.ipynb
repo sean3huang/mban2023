{
 "cells": [
  {
   "cell_type": "code",
   "execution_count": 259,
   "id": "b128d495-695b-40ab-b0d6-2b4df80018d4",
   "metadata": {},
   "outputs": [],
   "source": [
    "using CSV, DataFrames, JuMP, Gurobi"
   ]
  },
  {
   "cell_type": "code",
   "execution_count": 260,
   "id": "c9e723a3-3c5f-4987-9698-e69dec61f0e7",
   "metadata": {},
   "outputs": [
    {
     "data": {
      "text/html": [
       "<div><div style = \"float: left;\"><span>5×3 DataFrame</span></div><div style = \"clear: both;\"></div></div><div class = \"data-frame\" style = \"overflow-x: scroll;\"><table class = \"data-frame\" style = \"margin-bottom: 6px;\"><thead><tr class = \"header\"><th class = \"rowNumber\" style = \"font-weight: bold; text-align: right;\">Row</th><th style = \"text-align: left;\">Product_ID</th><th style = \"text-align: left;\">Plant_Code</th><th style = \"text-align: left;\">Weight</th></tr><tr class = \"subheader headerLastRow\"><th class = \"rowNumber\" style = \"font-weight: bold; text-align: right;\"></th><th title = \"Int64\" style = \"text-align: left;\">Int64</th><th title = \"Int64\" style = \"text-align: left;\">Int64</th><th title = \"Float64\" style = \"text-align: left;\">Float64</th></tr></thead><tbody><tr><td class = \"rowNumber\" style = \"font-weight: bold; text-align: right;\">1</td><td style = \"text-align: right;\">0</td><td style = \"text-align: right;\">15</td><td style = \"text-align: right;\">25.2027</td></tr><tr><td class = \"rowNumber\" style = \"font-weight: bold; text-align: right;\">2</td><td style = \"text-align: right;\">1</td><td style = \"text-align: right;\">42</td><td style = \"text-align: right;\">73.2817</td></tr><tr><td class = \"rowNumber\" style = \"font-weight: bold; text-align: right;\">3</td><td style = \"text-align: right;\">2</td><td style = \"text-align: right;\">24</td><td style = \"text-align: right;\">19.4667</td></tr><tr><td class = \"rowNumber\" style = \"font-weight: bold; text-align: right;\">4</td><td style = \"text-align: right;\">3</td><td style = \"text-align: right;\">96</td><td style = \"text-align: right;\">593.702</td></tr><tr><td class = \"rowNumber\" style = \"font-weight: bold; text-align: right;\">5</td><td style = \"text-align: right;\">4</td><td style = \"text-align: right;\">30</td><td style = \"text-align: right;\">26.5947</td></tr></tbody></table></div>"
      ],
      "text/latex": [
       "\\begin{tabular}{r|ccc}\n",
       "\t& Product\\_ID & Plant\\_Code & Weight\\\\\n",
       "\t\\hline\n",
       "\t& Int64 & Int64 & Float64\\\\\n",
       "\t\\hline\n",
       "\t1 & 0 & 15 & 25.2027 \\\\\n",
       "\t2 & 1 & 42 & 73.2817 \\\\\n",
       "\t3 & 2 & 24 & 19.4667 \\\\\n",
       "\t4 & 3 & 96 & 593.702 \\\\\n",
       "\t5 & 4 & 30 & 26.5947 \\\\\n",
       "\\end{tabular}\n"
      ],
      "text/plain": [
       "\u001b[1m5×3 DataFrame\u001b[0m\n",
       "\u001b[1m Row \u001b[0m│\u001b[1m Product_ID \u001b[0m\u001b[1m Plant_Code \u001b[0m\u001b[1m Weight   \u001b[0m\n",
       "     │\u001b[90m Int64      \u001b[0m\u001b[90m Int64      \u001b[0m\u001b[90m Float64  \u001b[0m\n",
       "─────┼──────────────────────────────────\n",
       "   1 │          0          15   25.2027\n",
       "   2 │          1          42   73.2817\n",
       "   3 │          2          24   19.4667\n",
       "   4 │          3          96  593.702\n",
       "   5 │          4          30   26.5947"
      ]
     },
     "execution_count": 260,
     "metadata": {},
     "output_type": "execute_result"
    }
   ],
   "source": [
    "OrderList = CSV.read(\"OrderList.csv\", DataFrame)\n",
    "first(OrderList, 5)"
   ]
  },
  {
   "cell_type": "code",
   "execution_count": 261,
   "id": "e33670b8-8b09-41b4-91af-f98809d7b5f1",
   "metadata": {},
   "outputs": [
    {
     "data": {
      "text/plain": [
       "772×3 Matrix{Float64}:\n",
       "    0.0   15.0   25.2027\n",
       "    1.0   42.0   73.2817\n",
       "    2.0   24.0   19.4667\n",
       "    3.0   96.0  593.702\n",
       "    4.0   30.0   26.5947\n",
       "    5.0   12.0   11.4692\n",
       "    6.0   36.0   66.3841\n",
       "    7.0   25.0    9.5\n",
       "    8.0   66.0   51.1902\n",
       "    9.0   42.0   36.0747\n",
       "   10.0    9.0  124.211\n",
       "   13.0   18.0   23.7079\n",
       "   14.0    9.0   18.06\n",
       "    ⋮           \n",
       " 1521.0    3.0   13.92\n",
       " 1522.0    3.0    7.78\n",
       " 1523.0    3.0    5.76\n",
       " 1528.0   12.0   32.6913\n",
       " 1529.0   18.0    9.2431\n",
       " 1531.0    3.0   22.3942\n",
       " 1534.0    3.0    1.75692\n",
       " 1535.0    3.0   33.4904\n",
       " 1536.0   12.0    2.9743\n",
       " 1537.0  128.0  839.29\n",
       " 1538.0   48.0  150.41\n",
       " 1539.0   48.0  162.5"
      ]
     },
     "execution_count": 261,
     "metadata": {},
     "output_type": "execute_result"
    }
   ],
   "source": [
    "OrderList_matrix = Matrix(OrderList)"
   ]
  },
  {
   "cell_type": "code",
   "execution_count": 262,
   "id": "207e8b7a-a5b2-42f0-8e61-2e88ef1f6bb1",
   "metadata": {},
   "outputs": [
    {
     "data": {
      "text/html": [
       "<div><div style = \"float: left;\"><span>5×7 DataFrame</span></div><div style = \"clear: both;\"></div></div><div class = \"data-frame\" style = \"overflow-x: scroll;\"><table class = \"data-frame\" style = \"margin-bottom: 6px;\"><thead><tr class = \"header\"><th class = \"rowNumber\" style = \"font-weight: bold; text-align: right;\">Row</th><th style = \"text-align: left;\">Carrier</th><th style = \"text-align: left;\">orig_port_cd</th><th style = \"text-align: left;\">dest_port_cd</th><th style = \"text-align: left;\">minm_wgh_qty</th><th style = \"text-align: left;\">max_wgh_qty</th><th style = \"text-align: left;\">minimum_cost</th><th style = \"text-align: left;\">rate</th></tr><tr class = \"subheader headerLastRow\"><th class = \"rowNumber\" style = \"font-weight: bold; text-align: right;\"></th><th title = \"Int64\" style = \"text-align: left;\">Int64</th><th title = \"Int64\" style = \"text-align: left;\">Int64</th><th title = \"Int64\" style = \"text-align: left;\">Int64</th><th title = \"Float64\" style = \"text-align: left;\">Float64</th><th title = \"Float64\" style = \"text-align: left;\">Float64</th><th title = \"Float64\" style = \"text-align: left;\">Float64</th><th title = \"Float64\" style = \"text-align: left;\">Float64</th></tr></thead><tbody><tr><td class = \"rowNumber\" style = \"font-weight: bold; text-align: right;\">1</td><td style = \"text-align: right;\">0</td><td style = \"text-align: right;\">8</td><td style = \"text-align: right;\">9</td><td style = \"text-align: right;\">250.0</td><td style = \"text-align: right;\">499.99</td><td style = \"text-align: right;\">43.2272</td><td style = \"text-align: right;\">0.7132</td></tr><tr><td class = \"rowNumber\" style = \"font-weight: bold; text-align: right;\">2</td><td style = \"text-align: right;\">1</td><td style = \"text-align: right;\">8</td><td style = \"text-align: right;\">9</td><td style = \"text-align: right;\">65.0</td><td style = \"text-align: right;\">69.99</td><td style = \"text-align: right;\">43.2272</td><td style = \"text-align: right;\">0.7512</td></tr><tr><td class = \"rowNumber\" style = \"font-weight: bold; text-align: right;\">3</td><td style = \"text-align: right;\">2</td><td style = \"text-align: right;\">8</td><td style = \"text-align: right;\">9</td><td style = \"text-align: right;\">60.0</td><td style = \"text-align: right;\">64.99</td><td style = \"text-align: right;\">43.2272</td><td style = \"text-align: right;\">0.7892</td></tr><tr><td class = \"rowNumber\" style = \"font-weight: bold; text-align: right;\">4</td><td style = \"text-align: right;\">3</td><td style = \"text-align: right;\">8</td><td style = \"text-align: right;\">9</td><td style = \"text-align: right;\">50.0</td><td style = \"text-align: right;\">54.99</td><td style = \"text-align: right;\">43.2272</td><td style = \"text-align: right;\">0.8272</td></tr><tr><td class = \"rowNumber\" style = \"font-weight: bold; text-align: right;\">5</td><td style = \"text-align: right;\">4</td><td style = \"text-align: right;\">8</td><td style = \"text-align: right;\">9</td><td style = \"text-align: right;\">35.0</td><td style = \"text-align: right;\">39.99</td><td style = \"text-align: right;\">43.2272</td><td style = \"text-align: right;\">1.0552</td></tr></tbody></table></div>"
      ],
      "text/latex": [
       "\\begin{tabular}{r|ccccccc}\n",
       "\t& Carrier & orig\\_port\\_cd & dest\\_port\\_cd & minm\\_wgh\\_qty & max\\_wgh\\_qty & minimum\\_cost & rate\\\\\n",
       "\t\\hline\n",
       "\t& Int64 & Int64 & Int64 & Float64 & Float64 & Float64 & Float64\\\\\n",
       "\t\\hline\n",
       "\t1 & 0 & 8 & 9 & 250.0 & 499.99 & 43.2272 & 0.7132 \\\\\n",
       "\t2 & 1 & 8 & 9 & 65.0 & 69.99 & 43.2272 & 0.7512 \\\\\n",
       "\t3 & 2 & 8 & 9 & 60.0 & 64.99 & 43.2272 & 0.7892 \\\\\n",
       "\t4 & 3 & 8 & 9 & 50.0 & 54.99 & 43.2272 & 0.8272 \\\\\n",
       "\t5 & 4 & 8 & 9 & 35.0 & 39.99 & 43.2272 & 1.0552 \\\\\n",
       "\\end{tabular}\n"
      ],
      "text/plain": [
       "\u001b[1m5×7 DataFrame\u001b[0m\n",
       "\u001b[1m Row \u001b[0m│\u001b[1m Carrier \u001b[0m\u001b[1m orig_port_cd \u001b[0m\u001b[1m dest_port_cd \u001b[0m\u001b[1m minm_wgh_qty \u001b[0m\u001b[1m max_wgh_qty \u001b[0m\u001b[1m minimum\u001b[0m ⋯\n",
       "     │\u001b[90m Int64   \u001b[0m\u001b[90m Int64        \u001b[0m\u001b[90m Int64        \u001b[0m\u001b[90m Float64      \u001b[0m\u001b[90m Float64     \u001b[0m\u001b[90m Float64\u001b[0m ⋯\n",
       "─────┼──────────────────────────────────────────────────────────────────────────\n",
       "   1 │       0             8             9         250.0       499.99       43 ⋯\n",
       "   2 │       1             8             9          65.0        69.99       43\n",
       "   3 │       2             8             9          60.0        64.99       43\n",
       "   4 │       3             8             9          50.0        54.99       43\n",
       "   5 │       4             8             9          35.0        39.99       43 ⋯\n",
       "\u001b[36m                                                               2 columns omitted\u001b[0m"
      ]
     },
     "execution_count": 262,
     "metadata": {},
     "output_type": "execute_result"
    }
   ],
   "source": [
    "FreightRates = CSV.read(\"FreightRates.csv\", DataFrame)\n",
    "first(FreightRates, 5)"
   ]
  },
  {
   "cell_type": "code",
   "execution_count": 263,
   "id": "228cebf1-d9c0-4fb1-b136-8cbd9648decf",
   "metadata": {},
   "outputs": [
    {
     "data": {
      "text/plain": [
       "1540×7 Matrix{Float64}:\n",
       "    0.0  8.0  9.0   250.0     499.99  43.2272  0.7132\n",
       "    1.0  8.0  9.0    65.0      69.99  43.2272  0.7512\n",
       "    2.0  8.0  9.0    60.0      64.99  43.2272  0.7892\n",
       "    3.0  8.0  9.0    50.0      54.99  43.2272  0.8272\n",
       "    4.0  8.0  9.0    35.0      39.99  43.2272  1.0552\n",
       "    5.0  8.0  9.0   100.0     249.99  43.2272  0.7132\n",
       "    6.0  8.0  9.0   500.0    1999.99  43.2272  0.6752\n",
       "    7.0  8.0  9.0    55.0      59.99  43.2272  0.8272\n",
       "    8.0  8.0  9.0    25.0      29.99  43.2272  1.2452\n",
       "    9.0  8.0  9.0    30.0      34.99  43.2272  1.1312\n",
       "   10.0  8.0  9.0    70.0      99.99  43.2272  0.7512\n",
       "   11.0  8.0  9.0    10.0      14.99  43.2272  1.8272\n",
       "   12.0  8.0  9.0     0.0       4.99  43.2272  1.8272\n",
       "    ⋮                                  ⋮       \n",
       " 1528.0  4.0  9.0   500.0    1999.99  31.9612  0.1816\n",
       " 1529.0  4.0  9.0   100.0     249.99  31.9612  0.1816\n",
       " 1530.0  2.0  9.0   500.0    1999.99  27.0384  0.124\n",
       " 1531.0  2.0  9.0  2000.0  100000.0   27.0384  0.124\n",
       " 1532.0  2.0  9.0   100.0     249.99  27.0384  0.124\n",
       " 1533.0  2.0  9.0   250.0     499.99  27.0384  0.124\n",
       " 1534.0  2.0  9.0     0.0      99.99  27.0384  0.124\n",
       " 1535.0  3.0  9.0     0.0      99.99  29.3392  0.4116\n",
       " 1536.0  3.0  9.0   500.0    1999.99  29.3392  0.3112\n",
       " 1537.0  3.0  9.0   250.0     499.99  29.3392  0.4116\n",
       " 1538.0  3.0  9.0  2000.0  100000.0   29.3392  0.3112\n",
       " 1539.0  3.0  9.0   100.0     249.99  29.3392  0.4116"
      ]
     },
     "execution_count": 263,
     "metadata": {},
     "output_type": "execute_result"
    }
   ],
   "source": [
    "FreightRates_matrix = Matrix(FreightRates)"
   ]
  },
  {
   "cell_type": "code",
   "execution_count": 264,
   "id": "75e11e26-d8c4-49f2-a846-dc1bafa3c8f1",
   "metadata": {},
   "outputs": [
    {
     "data": {
      "text/html": [
       "<div><div style = \"float: left;\"><span>5×2 DataFrame</span></div><div style = \"clear: both;\"></div></div><div class = \"data-frame\" style = \"overflow-x: scroll;\"><table class = \"data-frame\" style = \"margin-bottom: 6px;\"><thead><tr class = \"header\"><th class = \"rowNumber\" style = \"font-weight: bold; text-align: right;\">Row</th><th style = \"text-align: left;\">WH</th><th style = \"text-align: left;\">Cost/kg</th></tr><tr class = \"subheader headerLastRow\"><th class = \"rowNumber\" style = \"font-weight: bold; text-align: right;\"></th><th title = \"Int64\" style = \"text-align: left;\">Int64</th><th title = \"Float64\" style = \"text-align: left;\">Float64</th></tr></thead><tbody><tr><td class = \"rowNumber\" style = \"font-weight: bold; text-align: right;\">1</td><td style = \"text-align: right;\">1</td><td style = \"text-align: right;\">0.566976</td></tr><tr><td class = \"rowNumber\" style = \"font-weight: bold; text-align: right;\">2</td><td style = \"text-align: right;\">2</td><td style = \"text-align: right;\">0.477504</td></tr><tr><td class = \"rowNumber\" style = \"font-weight: bold; text-align: right;\">3</td><td style = \"text-align: right;\">3</td><td style = \"text-align: right;\">0.517502</td></tr><tr><td class = \"rowNumber\" style = \"font-weight: bold; text-align: right;\">4</td><td style = \"text-align: right;\">4</td><td style = \"text-align: right;\">0.428503</td></tr><tr><td class = \"rowNumber\" style = \"font-weight: bold; text-align: right;\">5</td><td style = \"text-align: right;\">5</td><td style = \"text-align: right;\">0.488144</td></tr></tbody></table></div>"
      ],
      "text/latex": [
       "\\begin{tabular}{r|cc}\n",
       "\t& WH & Cost/kg\\\\\n",
       "\t\\hline\n",
       "\t& Int64 & Float64\\\\\n",
       "\t\\hline\n",
       "\t1 & 1 & 0.566976 \\\\\n",
       "\t2 & 2 & 0.477504 \\\\\n",
       "\t3 & 3 & 0.517502 \\\\\n",
       "\t4 & 4 & 0.428503 \\\\\n",
       "\t5 & 5 & 0.488144 \\\\\n",
       "\\end{tabular}\n"
      ],
      "text/plain": [
       "\u001b[1m5×2 DataFrame\u001b[0m\n",
       "\u001b[1m Row \u001b[0m│\u001b[1m WH    \u001b[0m\u001b[1m Cost/kg  \u001b[0m\n",
       "     │\u001b[90m Int64 \u001b[0m\u001b[90m Float64  \u001b[0m\n",
       "─────┼─────────────────\n",
       "   1 │     1  0.566976\n",
       "   2 │     2  0.477504\n",
       "   3 │     3  0.517502\n",
       "   4 │     4  0.428503\n",
       "   5 │     5  0.488144"
      ]
     },
     "execution_count": 264,
     "metadata": {},
     "output_type": "execute_result"
    }
   ],
   "source": [
    "WhCosts = CSV.read(\"WhCosts.csv\", DataFrame)\n",
    "WhCosts = sort(WhCosts,[:WH])\n",
    "first(WhCosts, 5)"
   ]
  },
  {
   "cell_type": "code",
   "execution_count": 265,
   "id": "15b0bba4-b0bf-4069-afd9-bb60e17ff960",
   "metadata": {},
   "outputs": [
    {
     "data": {
      "text/plain": [
       "16×2 Matrix{Float64}:\n",
       "  1.0  0.566976\n",
       "  2.0  0.477504\n",
       "  3.0  0.517502\n",
       "  4.0  0.428503\n",
       "  5.0  0.488144\n",
       "  6.0  0.554088\n",
       "  7.0  0.371424\n",
       "  8.0  0.522857\n",
       "  9.0  0.465071\n",
       " 10.0  0.493582\n",
       " 11.0  0.555247\n",
       " 12.0  0.773132\n",
       " 13.0  0.469707\n",
       " 14.0  0.63433\n",
       " 16.0  1.91981\n",
       " 18.0  2.03625"
      ]
     },
     "execution_count": 265,
     "metadata": {},
     "output_type": "execute_result"
    }
   ],
   "source": [
    "WhCosts_matrix = Matrix(WhCosts)"
   ]
  },
  {
   "cell_type": "code",
   "execution_count": 266,
   "id": "54a1678c-fce9-4ab1-aade-932017a5ac19",
   "metadata": {},
   "outputs": [
    {
     "data": {
      "text/html": [
       "<div><div style = \"float: left;\"><span>5×2 DataFrame</span></div><div style = \"clear: both;\"></div></div><div class = \"data-frame\" style = \"overflow-x: scroll;\"><table class = \"data-frame\" style = \"margin-bottom: 6px;\"><thead><tr class = \"header\"><th class = \"rowNumber\" style = \"font-weight: bold; text-align: right;\">Row</th><th style = \"text-align: left;\">Plant_ID</th><th style = \"text-align: left;\">Daily_Capacity </th></tr><tr class = \"subheader headerLastRow\"><th class = \"rowNumber\" style = \"font-weight: bold; text-align: right;\"></th><th title = \"Int64\" style = \"text-align: left;\">Int64</th><th title = \"Int64\" style = \"text-align: left;\">Int64</th></tr></thead><tbody><tr><td class = \"rowNumber\" style = \"font-weight: bold; text-align: right;\">1</td><td style = \"text-align: right;\">1</td><td style = \"text-align: right;\">1070000</td></tr><tr><td class = \"rowNumber\" style = \"font-weight: bold; text-align: right;\">2</td><td style = \"text-align: right;\">2</td><td style = \"text-align: right;\">138000</td></tr><tr><td class = \"rowNumber\" style = \"font-weight: bold; text-align: right;\">3</td><td style = \"text-align: right;\">3</td><td style = \"text-align: right;\">1013000</td></tr><tr><td class = \"rowNumber\" style = \"font-weight: bold; text-align: right;\">4</td><td style = \"text-align: right;\">4</td><td style = \"text-align: right;\">554000</td></tr><tr><td class = \"rowNumber\" style = \"font-weight: bold; text-align: right;\">5</td><td style = \"text-align: right;\">5</td><td style = \"text-align: right;\">385000</td></tr></tbody></table></div>"
      ],
      "text/latex": [
       "\\begin{tabular}{r|cc}\n",
       "\t& Plant\\_ID & Daily\\_Capacity \\\\\n",
       "\t\\hline\n",
       "\t& Int64 & Int64\\\\\n",
       "\t\\hline\n",
       "\t1 & 1 & 1070000 \\\\\n",
       "\t2 & 2 & 138000 \\\\\n",
       "\t3 & 3 & 1013000 \\\\\n",
       "\t4 & 4 & 554000 \\\\\n",
       "\t5 & 5 & 385000 \\\\\n",
       "\\end{tabular}\n"
      ],
      "text/plain": [
       "\u001b[1m5×2 DataFrame\u001b[0m\n",
       "\u001b[1m Row \u001b[0m│\u001b[1m Plant_ID \u001b[0m\u001b[1m Daily_Capacity  \u001b[0m\n",
       "     │\u001b[90m Int64    \u001b[0m\u001b[90m Int64           \u001b[0m\n",
       "─────┼───────────────────────────\n",
       "   1 │        1          1070000\n",
       "   2 │        2           138000\n",
       "   3 │        3          1013000\n",
       "   4 │        4           554000\n",
       "   5 │        5           385000"
      ]
     },
     "execution_count": 266,
     "metadata": {},
     "output_type": "execute_result"
    }
   ],
   "source": [
    "WhCapacities = CSV.read(\"WhCapacities.csv\", DataFrame)\n",
    "WhCapacities = sort(WhCapacities,[:Plant_ID])\n",
    "first(WhCapacities, 5)"
   ]
  },
  {
   "cell_type": "code",
   "execution_count": 267,
   "id": "ef6c1473-80c5-4e6c-a509-7cdd2991bb43",
   "metadata": {},
   "outputs": [
    {
     "data": {
      "text/plain": [
       "16×2 Matrix{Int64}:\n",
       "  1  1070000\n",
       "  2   138000\n",
       "  3  1013000\n",
       "  4   554000\n",
       "  5   385000\n",
       "  6    49000\n",
       "  7   265000\n",
       "  8    14000\n",
       "  9   110000\n",
       " 10   118000\n",
       " 11   332000\n",
       " 12   209000\n",
       " 13   490000\n",
       " 14   549000\n",
       " 16   457000\n",
       " 18   111000"
      ]
     },
     "execution_count": 267,
     "metadata": {},
     "output_type": "execute_result"
    }
   ],
   "source": [
    "WhCapacities_matrix = Matrix(WhCapacities)"
   ]
  },
  {
   "cell_type": "code",
   "execution_count": 268,
   "id": "64479837-bb23-4805-8a1c-9879855fa667",
   "metadata": {},
   "outputs": [
    {
     "data": {
      "text/html": [
       "<div><div style = \"float: left;\"><span>5×17 DataFrame</span></div><div style = \"clear: both;\"></div></div><div class = \"data-frame\" style = \"overflow-x: scroll;\"><table class = \"data-frame\" style = \"margin-bottom: 6px;\"><thead><tr class = \"header\"><th class = \"rowNumber\" style = \"font-weight: bold; text-align: right;\">Row</th><th style = \"text-align: left;\">Product_ID</th><th style = \"text-align: left;\">Plant_Code_1</th><th style = \"text-align: left;\">Plant_Code_2</th><th style = \"text-align: left;\">Plant_Code_3</th><th style = \"text-align: left;\">Plant_Code_4</th><th style = \"text-align: left;\">Plant_Code_5</th><th style = \"text-align: left;\">Plant_Code_6</th><th style = \"text-align: left;\">Plant_Code_7</th><th style = \"text-align: left;\">Plant_Code_8</th><th style = \"text-align: left;\">Plant_Code_9</th><th style = \"text-align: left;\">Plant_Code_10</th><th style = \"text-align: left;\">Plant_Code_11</th><th style = \"text-align: left;\">Plant_Code_12</th><th style = \"text-align: left;\">Plant_Code_13</th><th style = \"text-align: left;\">Plant_Code_14</th><th style = \"text-align: left;\">Plant_Code_16</th><th style = \"text-align: left;\">Plant_Code_18</th></tr><tr class = \"subheader headerLastRow\"><th class = \"rowNumber\" style = \"font-weight: bold; text-align: right;\"></th><th title = \"Int64\" style = \"text-align: left;\">Int64</th><th title = \"Int64\" style = \"text-align: left;\">Int64</th><th title = \"Int64\" style = \"text-align: left;\">Int64</th><th title = \"Int64\" style = \"text-align: left;\">Int64</th><th title = \"Int64\" style = \"text-align: left;\">Int64</th><th title = \"Int64\" style = \"text-align: left;\">Int64</th><th title = \"Int64\" style = \"text-align: left;\">Int64</th><th title = \"Int64\" style = \"text-align: left;\">Int64</th><th title = \"Int64\" style = \"text-align: left;\">Int64</th><th title = \"Int64\" style = \"text-align: left;\">Int64</th><th title = \"Int64\" style = \"text-align: left;\">Int64</th><th title = \"Int64\" style = \"text-align: left;\">Int64</th><th title = \"Int64\" style = \"text-align: left;\">Int64</th><th title = \"Int64\" style = \"text-align: left;\">Int64</th><th title = \"Int64\" style = \"text-align: left;\">Int64</th><th title = \"Int64\" style = \"text-align: left;\">Int64</th><th title = \"Int64\" style = \"text-align: left;\">Int64</th></tr></thead><tbody><tr><td class = \"rowNumber\" style = \"font-weight: bold; text-align: right;\">1</td><td style = \"text-align: right;\">0</td><td style = \"text-align: right;\">0</td><td style = \"text-align: right;\">0</td><td style = \"text-align: right;\">1</td><td style = \"text-align: right;\">0</td><td style = \"text-align: right;\">0</td><td style = \"text-align: right;\">0</td><td style = \"text-align: right;\">0</td><td style = \"text-align: right;\">0</td><td style = \"text-align: right;\">0</td><td style = \"text-align: right;\">0</td><td style = \"text-align: right;\">0</td><td style = \"text-align: right;\">0</td><td style = \"text-align: right;\">0</td><td style = \"text-align: right;\">0</td><td style = \"text-align: right;\">0</td><td style = \"text-align: right;\">0</td></tr><tr><td class = \"rowNumber\" style = \"font-weight: bold; text-align: right;\">2</td><td style = \"text-align: right;\">1</td><td style = \"text-align: right;\">0</td><td style = \"text-align: right;\">0</td><td style = \"text-align: right;\">1</td><td style = \"text-align: right;\">0</td><td style = \"text-align: right;\">0</td><td style = \"text-align: right;\">0</td><td style = \"text-align: right;\">0</td><td style = \"text-align: right;\">0</td><td style = \"text-align: right;\">0</td><td style = \"text-align: right;\">0</td><td style = \"text-align: right;\">0</td><td style = \"text-align: right;\">0</td><td style = \"text-align: right;\">0</td><td style = \"text-align: right;\">0</td><td style = \"text-align: right;\">0</td><td style = \"text-align: right;\">0</td></tr><tr><td class = \"rowNumber\" style = \"font-weight: bold; text-align: right;\">3</td><td style = \"text-align: right;\">2</td><td style = \"text-align: right;\">0</td><td style = \"text-align: right;\">0</td><td style = \"text-align: right;\">0</td><td style = \"text-align: right;\">0</td><td style = \"text-align: right;\">0</td><td style = \"text-align: right;\">0</td><td style = \"text-align: right;\">0</td><td style = \"text-align: right;\">0</td><td style = \"text-align: right;\">0</td><td style = \"text-align: right;\">0</td><td style = \"text-align: right;\">0</td><td style = \"text-align: right;\">1</td><td style = \"text-align: right;\">0</td><td style = \"text-align: right;\">0</td><td style = \"text-align: right;\">0</td><td style = \"text-align: right;\">0</td></tr><tr><td class = \"rowNumber\" style = \"font-weight: bold; text-align: right;\">4</td><td style = \"text-align: right;\">3</td><td style = \"text-align: right;\">0</td><td style = \"text-align: right;\">0</td><td style = \"text-align: right;\">0</td><td style = \"text-align: right;\">0</td><td style = \"text-align: right;\">0</td><td style = \"text-align: right;\">0</td><td style = \"text-align: right;\">0</td><td style = \"text-align: right;\">0</td><td style = \"text-align: right;\">0</td><td style = \"text-align: right;\">0</td><td style = \"text-align: right;\">0</td><td style = \"text-align: right;\">1</td><td style = \"text-align: right;\">0</td><td style = \"text-align: right;\">0</td><td style = \"text-align: right;\">0</td><td style = \"text-align: right;\">0</td></tr><tr><td class = \"rowNumber\" style = \"font-weight: bold; text-align: right;\">5</td><td style = \"text-align: right;\">4</td><td style = \"text-align: right;\">0</td><td style = \"text-align: right;\">0</td><td style = \"text-align: right;\">1</td><td style = \"text-align: right;\">0</td><td style = \"text-align: right;\">0</td><td style = \"text-align: right;\">0</td><td style = \"text-align: right;\">0</td><td style = \"text-align: right;\">0</td><td style = \"text-align: right;\">0</td><td style = \"text-align: right;\">0</td><td style = \"text-align: right;\">0</td><td style = \"text-align: right;\">0</td><td style = \"text-align: right;\">0</td><td style = \"text-align: right;\">0</td><td style = \"text-align: right;\">0</td><td style = \"text-align: right;\">0</td></tr></tbody></table></div>"
      ],
      "text/latex": [
       "\\begin{tabular}{r|ccccccc}\n",
       "\t& Product\\_ID & Plant\\_Code\\_1 & Plant\\_Code\\_2 & Plant\\_Code\\_3 & Plant\\_Code\\_4 & Plant\\_Code\\_5 & \\\\\n",
       "\t\\hline\n",
       "\t& Int64 & Int64 & Int64 & Int64 & Int64 & Int64 & \\\\\n",
       "\t\\hline\n",
       "\t1 & 0 & 0 & 0 & 1 & 0 & 0 & $\\dots$ \\\\\n",
       "\t2 & 1 & 0 & 0 & 1 & 0 & 0 & $\\dots$ \\\\\n",
       "\t3 & 2 & 0 & 0 & 0 & 0 & 0 & $\\dots$ \\\\\n",
       "\t4 & 3 & 0 & 0 & 0 & 0 & 0 & $\\dots$ \\\\\n",
       "\t5 & 4 & 0 & 0 & 1 & 0 & 0 & $\\dots$ \\\\\n",
       "\\end{tabular}\n"
      ],
      "text/plain": [
       "\u001b[1m5×17 DataFrame\u001b[0m\n",
       "\u001b[1m Row \u001b[0m│\u001b[1m Product_ID \u001b[0m\u001b[1m Plant_Code_1 \u001b[0m\u001b[1m Plant_Code_2 \u001b[0m\u001b[1m Plant_Code_3 \u001b[0m\u001b[1m Plant_Code_4 \u001b[0m\u001b[1m Pla\u001b[0m ⋯\n",
       "     │\u001b[90m Int64      \u001b[0m\u001b[90m Int64        \u001b[0m\u001b[90m Int64        \u001b[0m\u001b[90m Int64        \u001b[0m\u001b[90m Int64        \u001b[0m\u001b[90m Int\u001b[0m ⋯\n",
       "─────┼──────────────────────────────────────────────────────────────────────────\n",
       "   1 │          0             0             0             1             0      ⋯\n",
       "   2 │          1             0             0             1             0\n",
       "   3 │          2             0             0             0             0\n",
       "   4 │          3             0             0             0             0\n",
       "   5 │          4             0             0             1             0      ⋯\n",
       "\u001b[36m                                                              12 columns omitted\u001b[0m"
      ]
     },
     "execution_count": 268,
     "metadata": {},
     "output_type": "execute_result"
    }
   ],
   "source": [
    "ProductsPerPlant = CSV.read(\"ProductsPerPlant.csv\", DataFrame)\n",
    "ProductsPerPlant = sort(ProductsPerPlant,[:Product_ID])\n",
    "first(ProductsPerPlant, 5)"
   ]
  },
  {
   "cell_type": "code",
   "execution_count": 269,
   "id": "5b2b1c28-b5d4-4764-ad7d-abfecc0c5034",
   "metadata": {},
   "outputs": [
    {
     "data": {
      "text/plain": [
       "772×17 Matrix{Int64}:\n",
       "    0  0  0  1  0  0  0  0  0  0  0  0  0  0  0  0  0\n",
       "    1  0  0  1  0  0  0  0  0  0  0  0  0  0  0  0  0\n",
       "    2  0  0  0  0  0  0  0  0  0  0  0  1  0  0  0  0\n",
       "    3  0  0  0  0  0  0  0  0  0  0  0  1  0  0  0  0\n",
       "    4  0  0  1  0  0  0  0  0  0  0  0  0  0  0  0  0\n",
       "    5  0  0  1  0  0  0  0  0  0  0  0  0  0  0  0  0\n",
       "    6  0  0  0  0  0  0  0  0  0  0  0  1  0  0  0  0\n",
       "    7  0  0  0  0  0  0  0  0  0  0  0  1  1  0  0  0\n",
       "    8  0  0  1  0  0  0  0  0  0  0  0  0  0  0  0  0\n",
       "    9  0  0  1  0  0  0  0  0  0  0  0  0  0  0  0  0\n",
       "   10  0  0  1  0  0  0  0  0  0  0  0  0  0  0  0  0\n",
       "   13  0  0  1  0  0  0  0  0  0  0  0  0  0  0  0  0\n",
       "   14  0  0  1  0  0  0  0  0  0  0  0  0  0  0  0  0\n",
       "    ⋮              ⋮              ⋮              ⋮  \n",
       " 1521  0  0  1  0  0  0  0  0  0  0  0  0  0  0  0  0\n",
       " 1522  0  0  1  0  0  0  0  0  0  0  0  0  0  0  0  0\n",
       " 1523  0  0  1  0  0  0  0  0  0  0  0  0  0  0  0  0\n",
       " 1528  0  0  1  0  0  0  0  0  0  0  0  0  0  0  0  0\n",
       " 1529  0  0  1  0  0  0  0  0  0  0  0  0  0  0  0  0\n",
       " 1531  0  0  1  0  0  0  0  0  0  0  0  0  0  0  0  0\n",
       " 1534  0  0  1  0  0  0  0  0  0  0  0  0  0  0  0  0\n",
       " 1535  0  0  1  0  0  0  0  0  0  0  0  0  0  0  0  0\n",
       " 1536  0  0  0  0  0  0  0  0  0  0  0  1  0  0  0  0\n",
       " 1537  0  0  0  0  0  0  0  0  0  0  0  0  0  0  1  0\n",
       " 1538  0  0  0  0  0  0  0  0  0  0  0  0  0  0  1  0\n",
       " 1539  0  0  0  0  0  0  0  0  0  0  0  0  0  0  1  0"
      ]
     },
     "execution_count": 269,
     "metadata": {},
     "output_type": "execute_result"
    }
   ],
   "source": [
    "ProductsPerPlant_matrix = Matrix(ProductsPerPlant)\n"
   ]
  },
  {
   "cell_type": "code",
   "execution_count": 270,
   "id": "ddc4418b-4a2d-4417-a12a-f21de5ca7081",
   "metadata": {},
   "outputs": [
    {
     "data": {
      "text/html": [
       "<div><div style = \"float: left;\"><span>16×12 DataFrame</span></div><div style = \"clear: both;\"></div></div><div class = \"data-frame\" style = \"overflow-x: scroll;\"><table class = \"data-frame\" style = \"margin-bottom: 6px;\"><thead><tr class = \"header\"><th class = \"rowNumber\" style = \"font-weight: bold; text-align: right;\">Row</th><th style = \"text-align: left;\">Plant_Code</th><th style = \"text-align: left;\">Port_1</th><th style = \"text-align: left;\">Port_2</th><th style = \"text-align: left;\">Port_3</th><th style = \"text-align: left;\">Port_4</th><th style = \"text-align: left;\">Port_5</th><th style = \"text-align: left;\">Port_6</th><th style = \"text-align: left;\">Port_7</th><th style = \"text-align: left;\">Port_8</th><th style = \"text-align: left;\">Port_9</th><th style = \"text-align: left;\">Port_10</th><th style = \"text-align: left;\">Port_11</th></tr><tr class = \"subheader headerLastRow\"><th class = \"rowNumber\" style = \"font-weight: bold; text-align: right;\"></th><th title = \"Int64\" style = \"text-align: left;\">Int64</th><th title = \"Int64\" style = \"text-align: left;\">Int64</th><th title = \"Int64\" style = \"text-align: left;\">Int64</th><th title = \"Int64\" style = \"text-align: left;\">Int64</th><th title = \"Int64\" style = \"text-align: left;\">Int64</th><th title = \"Int64\" style = \"text-align: left;\">Int64</th><th title = \"Int64\" style = \"text-align: left;\">Int64</th><th title = \"Int64\" style = \"text-align: left;\">Int64</th><th title = \"Int64\" style = \"text-align: left;\">Int64</th><th title = \"Int64\" style = \"text-align: left;\">Int64</th><th title = \"Int64\" style = \"text-align: left;\">Int64</th><th title = \"Int64\" style = \"text-align: left;\">Int64</th></tr></thead><tbody><tr><td class = \"rowNumber\" style = \"font-weight: bold; text-align: right;\">1</td><td style = \"text-align: right;\">1</td><td style = \"text-align: right;\">1</td><td style = \"text-align: right;\">1</td><td style = \"text-align: right;\">0</td><td style = \"text-align: right;\">0</td><td style = \"text-align: right;\">0</td><td style = \"text-align: right;\">0</td><td style = \"text-align: right;\">0</td><td style = \"text-align: right;\">0</td><td style = \"text-align: right;\">0</td><td style = \"text-align: right;\">0</td><td style = \"text-align: right;\">0</td></tr><tr><td class = \"rowNumber\" style = \"font-weight: bold; text-align: right;\">2</td><td style = \"text-align: right;\">2</td><td style = \"text-align: right;\">0</td><td style = \"text-align: right;\">0</td><td style = \"text-align: right;\">1</td><td style = \"text-align: right;\">0</td><td style = \"text-align: right;\">0</td><td style = \"text-align: right;\">0</td><td style = \"text-align: right;\">0</td><td style = \"text-align: right;\">0</td><td style = \"text-align: right;\">0</td><td style = \"text-align: right;\">0</td><td style = \"text-align: right;\">0</td></tr><tr><td class = \"rowNumber\" style = \"font-weight: bold; text-align: right;\">3</td><td style = \"text-align: right;\">3</td><td style = \"text-align: right;\">0</td><td style = \"text-align: right;\">0</td><td style = \"text-align: right;\">0</td><td style = \"text-align: right;\">1</td><td style = \"text-align: right;\">0</td><td style = \"text-align: right;\">0</td><td style = \"text-align: right;\">0</td><td style = \"text-align: right;\">0</td><td style = \"text-align: right;\">0</td><td style = \"text-align: right;\">0</td><td style = \"text-align: right;\">0</td></tr><tr><td class = \"rowNumber\" style = \"font-weight: bold; text-align: right;\">4</td><td style = \"text-align: right;\">4</td><td style = \"text-align: right;\">0</td><td style = \"text-align: right;\">0</td><td style = \"text-align: right;\">0</td><td style = \"text-align: right;\">0</td><td style = \"text-align: right;\">1</td><td style = \"text-align: right;\">0</td><td style = \"text-align: right;\">0</td><td style = \"text-align: right;\">0</td><td style = \"text-align: right;\">0</td><td style = \"text-align: right;\">0</td><td style = \"text-align: right;\">0</td></tr><tr><td class = \"rowNumber\" style = \"font-weight: bold; text-align: right;\">5</td><td style = \"text-align: right;\">5</td><td style = \"text-align: right;\">0</td><td style = \"text-align: right;\">0</td><td style = \"text-align: right;\">0</td><td style = \"text-align: right;\">0</td><td style = \"text-align: right;\">0</td><td style = \"text-align: right;\">1</td><td style = \"text-align: right;\">0</td><td style = \"text-align: right;\">0</td><td style = \"text-align: right;\">0</td><td style = \"text-align: right;\">0</td><td style = \"text-align: right;\">0</td></tr><tr><td class = \"rowNumber\" style = \"font-weight: bold; text-align: right;\">6</td><td style = \"text-align: right;\">6</td><td style = \"text-align: right;\">0</td><td style = \"text-align: right;\">0</td><td style = \"text-align: right;\">0</td><td style = \"text-align: right;\">0</td><td style = \"text-align: right;\">0</td><td style = \"text-align: right;\">1</td><td style = \"text-align: right;\">0</td><td style = \"text-align: right;\">0</td><td style = \"text-align: right;\">0</td><td style = \"text-align: right;\">0</td><td style = \"text-align: right;\">0</td></tr><tr><td class = \"rowNumber\" style = \"font-weight: bold; text-align: right;\">7</td><td style = \"text-align: right;\">7</td><td style = \"text-align: right;\">1</td><td style = \"text-align: right;\">1</td><td style = \"text-align: right;\">0</td><td style = \"text-align: right;\">0</td><td style = \"text-align: right;\">0</td><td style = \"text-align: right;\">0</td><td style = \"text-align: right;\">0</td><td style = \"text-align: right;\">0</td><td style = \"text-align: right;\">0</td><td style = \"text-align: right;\">0</td><td style = \"text-align: right;\">0</td></tr><tr><td class = \"rowNumber\" style = \"font-weight: bold; text-align: right;\">8</td><td style = \"text-align: right;\">8</td><td style = \"text-align: right;\">0</td><td style = \"text-align: right;\">0</td><td style = \"text-align: right;\">0</td><td style = \"text-align: right;\">1</td><td style = \"text-align: right;\">0</td><td style = \"text-align: right;\">0</td><td style = \"text-align: right;\">0</td><td style = \"text-align: right;\">0</td><td style = \"text-align: right;\">0</td><td style = \"text-align: right;\">0</td><td style = \"text-align: right;\">0</td></tr><tr><td class = \"rowNumber\" style = \"font-weight: bold; text-align: right;\">9</td><td style = \"text-align: right;\">9</td><td style = \"text-align: right;\">0</td><td style = \"text-align: right;\">0</td><td style = \"text-align: right;\">0</td><td style = \"text-align: right;\">1</td><td style = \"text-align: right;\">0</td><td style = \"text-align: right;\">0</td><td style = \"text-align: right;\">0</td><td style = \"text-align: right;\">0</td><td style = \"text-align: right;\">0</td><td style = \"text-align: right;\">0</td><td style = \"text-align: right;\">0</td></tr><tr><td class = \"rowNumber\" style = \"font-weight: bold; text-align: right;\">10</td><td style = \"text-align: right;\">10</td><td style = \"text-align: right;\">1</td><td style = \"text-align: right;\">1</td><td style = \"text-align: right;\">0</td><td style = \"text-align: right;\">0</td><td style = \"text-align: right;\">0</td><td style = \"text-align: right;\">0</td><td style = \"text-align: right;\">0</td><td style = \"text-align: right;\">0</td><td style = \"text-align: right;\">0</td><td style = \"text-align: right;\">0</td><td style = \"text-align: right;\">0</td></tr><tr><td class = \"rowNumber\" style = \"font-weight: bold; text-align: right;\">11</td><td style = \"text-align: right;\">11</td><td style = \"text-align: right;\">0</td><td style = \"text-align: right;\">0</td><td style = \"text-align: right;\">0</td><td style = \"text-align: right;\">1</td><td style = \"text-align: right;\">0</td><td style = \"text-align: right;\">0</td><td style = \"text-align: right;\">0</td><td style = \"text-align: right;\">0</td><td style = \"text-align: right;\">0</td><td style = \"text-align: right;\">0</td><td style = \"text-align: right;\">0</td></tr><tr><td class = \"rowNumber\" style = \"font-weight: bold; text-align: right;\">12</td><td style = \"text-align: right;\">12</td><td style = \"text-align: right;\">0</td><td style = \"text-align: right;\">0</td><td style = \"text-align: right;\">0</td><td style = \"text-align: right;\">1</td><td style = \"text-align: right;\">0</td><td style = \"text-align: right;\">0</td><td style = \"text-align: right;\">0</td><td style = \"text-align: right;\">0</td><td style = \"text-align: right;\">0</td><td style = \"text-align: right;\">0</td><td style = \"text-align: right;\">0</td></tr><tr><td class = \"rowNumber\" style = \"font-weight: bold; text-align: right;\">13</td><td style = \"text-align: right;\">13</td><td style = \"text-align: right;\">0</td><td style = \"text-align: right;\">0</td><td style = \"text-align: right;\">0</td><td style = \"text-align: right;\">1</td><td style = \"text-align: right;\">0</td><td style = \"text-align: right;\">0</td><td style = \"text-align: right;\">0</td><td style = \"text-align: right;\">0</td><td style = \"text-align: right;\">0</td><td style = \"text-align: right;\">0</td><td style = \"text-align: right;\">0</td></tr><tr><td class = \"rowNumber\" style = \"font-weight: bold; text-align: right;\">14</td><td style = \"text-align: right;\">14</td><td style = \"text-align: right;\">0</td><td style = \"text-align: right;\">0</td><td style = \"text-align: right;\">0</td><td style = \"text-align: right;\">0</td><td style = \"text-align: right;\">0</td><td style = \"text-align: right;\">0</td><td style = \"text-align: right;\">1</td><td style = \"text-align: right;\">0</td><td style = \"text-align: right;\">0</td><td style = \"text-align: right;\">0</td><td style = \"text-align: right;\">0</td></tr><tr><td class = \"rowNumber\" style = \"font-weight: bold; text-align: right;\">15</td><td style = \"text-align: right;\">16</td><td style = \"text-align: right;\">0</td><td style = \"text-align: right;\">0</td><td style = \"text-align: right;\">0</td><td style = \"text-align: right;\">0</td><td style = \"text-align: right;\">0</td><td style = \"text-align: right;\">0</td><td style = \"text-align: right;\">0</td><td style = \"text-align: right;\">0</td><td style = \"text-align: right;\">1</td><td style = \"text-align: right;\">0</td><td style = \"text-align: right;\">0</td></tr><tr><td class = \"rowNumber\" style = \"font-weight: bold; text-align: right;\">16</td><td style = \"text-align: right;\">18</td><td style = \"text-align: right;\">0</td><td style = \"text-align: right;\">0</td><td style = \"text-align: right;\">0</td><td style = \"text-align: right;\">0</td><td style = \"text-align: right;\">0</td><td style = \"text-align: right;\">0</td><td style = \"text-align: right;\">0</td><td style = \"text-align: right;\">0</td><td style = \"text-align: right;\">0</td><td style = \"text-align: right;\">0</td><td style = \"text-align: right;\">1</td></tr></tbody></table></div>"
      ],
      "text/latex": [
       "\\begin{tabular}{r|ccccccccccc}\n",
       "\t& Plant\\_Code & Port\\_1 & Port\\_2 & Port\\_3 & Port\\_4 & Port\\_5 & Port\\_6 & Port\\_7 & Port\\_8 & Port\\_9 & \\\\\n",
       "\t\\hline\n",
       "\t& Int64 & Int64 & Int64 & Int64 & Int64 & Int64 & Int64 & Int64 & Int64 & Int64 & \\\\\n",
       "\t\\hline\n",
       "\t1 & 1 & 1 & 1 & 0 & 0 & 0 & 0 & 0 & 0 & 0 & $\\dots$ \\\\\n",
       "\t2 & 2 & 0 & 0 & 1 & 0 & 0 & 0 & 0 & 0 & 0 & $\\dots$ \\\\\n",
       "\t3 & 3 & 0 & 0 & 0 & 1 & 0 & 0 & 0 & 0 & 0 & $\\dots$ \\\\\n",
       "\t4 & 4 & 0 & 0 & 0 & 0 & 1 & 0 & 0 & 0 & 0 & $\\dots$ \\\\\n",
       "\t5 & 5 & 0 & 0 & 0 & 0 & 0 & 1 & 0 & 0 & 0 & $\\dots$ \\\\\n",
       "\t6 & 6 & 0 & 0 & 0 & 0 & 0 & 1 & 0 & 0 & 0 & $\\dots$ \\\\\n",
       "\t7 & 7 & 1 & 1 & 0 & 0 & 0 & 0 & 0 & 0 & 0 & $\\dots$ \\\\\n",
       "\t8 & 8 & 0 & 0 & 0 & 1 & 0 & 0 & 0 & 0 & 0 & $\\dots$ \\\\\n",
       "\t9 & 9 & 0 & 0 & 0 & 1 & 0 & 0 & 0 & 0 & 0 & $\\dots$ \\\\\n",
       "\t10 & 10 & 1 & 1 & 0 & 0 & 0 & 0 & 0 & 0 & 0 & $\\dots$ \\\\\n",
       "\t11 & 11 & 0 & 0 & 0 & 1 & 0 & 0 & 0 & 0 & 0 & $\\dots$ \\\\\n",
       "\t12 & 12 & 0 & 0 & 0 & 1 & 0 & 0 & 0 & 0 & 0 & $\\dots$ \\\\\n",
       "\t13 & 13 & 0 & 0 & 0 & 1 & 0 & 0 & 0 & 0 & 0 & $\\dots$ \\\\\n",
       "\t14 & 14 & 0 & 0 & 0 & 0 & 0 & 0 & 1 & 0 & 0 & $\\dots$ \\\\\n",
       "\t15 & 16 & 0 & 0 & 0 & 0 & 0 & 0 & 0 & 0 & 1 & $\\dots$ \\\\\n",
       "\t16 & 18 & 0 & 0 & 0 & 0 & 0 & 0 & 0 & 0 & 0 & $\\dots$ \\\\\n",
       "\\end{tabular}\n"
      ],
      "text/plain": [
       "\u001b[1m16×12 DataFrame\u001b[0m\n",
       "\u001b[1m Row \u001b[0m│\u001b[1m Plant_Code \u001b[0m\u001b[1m Port_1 \u001b[0m\u001b[1m Port_2 \u001b[0m\u001b[1m Port_3 \u001b[0m\u001b[1m Port_4 \u001b[0m\u001b[1m Port_5 \u001b[0m\u001b[1m Port_6 \u001b[0m\u001b[1m Port_7 \u001b[0m\u001b[1m Por\u001b[0m ⋯\n",
       "     │\u001b[90m Int64      \u001b[0m\u001b[90m Int64  \u001b[0m\u001b[90m Int64  \u001b[0m\u001b[90m Int64  \u001b[0m\u001b[90m Int64  \u001b[0m\u001b[90m Int64  \u001b[0m\u001b[90m Int64  \u001b[0m\u001b[90m Int64  \u001b[0m\u001b[90m Int\u001b[0m ⋯\n",
       "─────┼──────────────────────────────────────────────────────────────────────────\n",
       "   1 │          1       1       1       0       0       0       0       0      ⋯\n",
       "   2 │          2       0       0       1       0       0       0       0\n",
       "   3 │          3       0       0       0       1       0       0       0\n",
       "   4 │          4       0       0       0       0       1       0       0\n",
       "   5 │          5       0       0       0       0       0       1       0      ⋯\n",
       "   6 │          6       0       0       0       0       0       1       0\n",
       "   7 │          7       1       1       0       0       0       0       0\n",
       "   8 │          8       0       0       0       1       0       0       0\n",
       "   9 │          9       0       0       0       1       0       0       0      ⋯\n",
       "  10 │         10       1       1       0       0       0       0       0\n",
       "  11 │         11       0       0       0       1       0       0       0\n",
       "  12 │         12       0       0       0       1       0       0       0\n",
       "  13 │         13       0       0       0       1       0       0       0      ⋯\n",
       "  14 │         14       0       0       0       0       0       0       1\n",
       "  15 │         16       0       0       0       0       0       0       0\n",
       "  16 │         18       0       0       0       0       0       0       0\n",
       "\u001b[36m                                                               4 columns omitted\u001b[0m"
      ]
     },
     "execution_count": 270,
     "metadata": {},
     "output_type": "execute_result"
    }
   ],
   "source": [
    "PlantPorts = CSV.read(\"PlantPorts.csv\", DataFrame)\n",
    "PlantPorts"
   ]
  },
  {
   "cell_type": "code",
   "execution_count": 271,
   "id": "8db712a2-6a9a-4d1f-8eec-aa004b9fd68b",
   "metadata": {},
   "outputs": [
    {
     "data": {
      "text/plain": [
       "16×12 Matrix{Int64}:\n",
       "  1  1  1  0  0  0  0  0  0  0  0  0\n",
       "  2  0  0  1  0  0  0  0  0  0  0  0\n",
       "  3  0  0  0  1  0  0  0  0  0  0  0\n",
       "  4  0  0  0  0  1  0  0  0  0  0  0\n",
       "  5  0  0  0  0  0  1  0  0  0  0  0\n",
       "  6  0  0  0  0  0  1  0  0  0  0  0\n",
       "  7  1  1  0  0  0  0  0  0  0  0  0\n",
       "  8  0  0  0  1  0  0  0  0  0  0  0\n",
       "  9  0  0  0  1  0  0  0  0  0  0  0\n",
       " 10  1  1  0  0  0  0  0  0  0  0  0\n",
       " 11  0  0  0  1  0  0  0  0  0  0  0\n",
       " 12  0  0  0  1  0  0  0  0  0  0  0\n",
       " 13  0  0  0  1  0  0  0  0  0  0  0\n",
       " 14  0  0  0  0  0  0  1  0  0  0  0\n",
       " 16  0  0  0  0  0  0  0  0  1  0  0\n",
       " 18  0  0  0  0  0  0  0  0  0  0  1"
      ]
     },
     "execution_count": 271,
     "metadata": {},
     "output_type": "execute_result"
    }
   ],
   "source": [
    "PlantPorts_matrix = Matrix(PlantPorts)"
   ]
  },
  {
   "cell_type": "code",
   "execution_count": 272,
   "id": "6ec6dc01-31b2-4fa4-a7b9-97d60d9b7b93",
   "metadata": {},
   "outputs": [],
   "source": [
    "plants = 1:16 # i\n",
    "ports = 1:11 # j\n",
    "types = 1:772 # 1:772, t\n",
    "carriers = 1:1540 # k\n",
    "M = 5000;"
   ]
  },
  {
   "cell_type": "code",
   "execution_count": 288,
   "id": "d9fed1e1-b8f9-4dd4-a2f1-eb788dae94cf",
   "metadata": {},
   "outputs": [
    {
     "name": "stdout",
     "output_type": "stream",
     "text": [
      "Set parameter Username\n",
      "Academic license - for non-commercial use only - expires 2024-08-20\n",
      "Gurobi Optimizer version 10.0.2 build v10.0.2rc0 (mac64[arm])\n",
      "\n",
      "CPU model: Apple M2 Max\n",
      "Thread count: 12 physical cores, 12 logical processors, using up to 12 threads\n",
      "\n",
      "Optimize a model with 198304 rows, 169752 columns and 931260 nonzeros\n",
      "Model fingerprint: 0xd51e20ae\n",
      "Variable types: 152812 continuous, 16940 integer (16940 binary)\n",
      "Coefficient statistics:\n",
      "  Matrix range     [1e-03, 1e+05]\n",
      "  Objective range  [3e-02, 1e+02]\n",
      "  Bounds range     [0e+00, 0e+00]\n",
      "  RHS range        [1e+00, 1e+06]\n",
      "Presolve removed 195739 rows and 166834 columns\n",
      "Presolve time: 0.10s\n",
      "Presolved: 2565 rows, 2918 columns, 7039 nonzeros\n",
      "Variable types: 1720 continuous, 1198 integer (1198 binary)\n",
      "\n",
      "Root relaxation: objective 5.792718e+05, 268 iterations, 0.00 seconds (0.00 work units)\n",
      "\n",
      "    Nodes    |    Current Node    |     Objective Bounds      |     Work\n",
      " Expl Unexpl |  Obj  Depth IntInf | Incumbent    BestBd   Gap | It/Node Time\n",
      "\n",
      "*    0     0               0    579271.81352 579271.814  0.00%     -    0s\n",
      "\n",
      "Explored 1 nodes (268 simplex iterations) in 0.17 seconds (0.41 work units)\n",
      "Thread count was 12 (of 12 available processors)\n",
      "\n",
      "Solution count 1: 579272 \n",
      "\n",
      "Optimal solution found (tolerance 1.00e-04)\n",
      "Best objective 5.792718135216e+05, best bound 5.792718135216e+05, gap 0.0000%\n",
      "\n",
      "User-callback calls 414, time in user-callback 0.00 sec\n"
     ]
    }
   ],
   "source": [
    "# set up model\n",
    "model = Model(Gurobi.Optimizer)\n",
    "\n",
    "# insert variables\n",
    "# weight to produce at plant i of type t that are going to be transported to port j\n",
    "@variable(model, x[plants, ports, types] >= 0)\n",
    "# weights to transport from port j using carrier k\n",
    "@variable(model, y[ports, carriers] >= 0)\n",
    "# whether or not to transport from port j using carrier k\n",
    "@variable(model, z[ports, carriers], Bin)\n",
    "\n",
    "# Capacity constraint for each plant\n",
    "@constraint(model, [i in plants], sum(sum(x[i, j, t] for t in types) for j in ports) <= WhCapacities_matrix[i, 2])\n",
    "# Constraint for determining whether each product can be produced at plant i \n",
    "@constraint(model, [i in plants, t in types], sum(x[i, j, t] for j in ports) <= ProductsPerPlant_matrix[t, i + 1] * M)\n",
    "# Demand constraint\n",
    "@constraint(model, [t in types], sum(sum(x[i, j, t] for i in plants) for j in ports) >= OrderList_matrix[t])\n",
    "# Plant vs. port match constraint\n",
    "# @constraint(model, [j in ports], sum(y[j, k] for k in carriers) == sum((sum(x[i, t] for t in types) * PlantPorts_matrix[i, j + 1]) for i in plants))\n",
    "# @constraint(model, [i in plants], sum(x[i, t] for t in types) == sum((sum(y[j, k] for k in carriers) * PlantPorts_matrix[i, j + 1]) for j in ports))\n",
    "# Ensure all that are produced are transported\n",
    "@constraint(model, sum(sum(sum(x[i, j, t] for i in plants) for t in types) for j in ports) == sum((sum(y[j, k] for j in ports) for k in carriers)))\n",
    "# Ensure all products produced at plant i for type t to port j has arrived at port j\n",
    "@constraint(model, [j in ports], sum(sum(x[i, j, t] for t in types) for i in plants) == sum(y[j, k] for k in carriers))\n",
    "# Constraint for which plant can be shipped to which port\n",
    "@constraint(model, [t in types, j in ports, i in plants], x[i, j, t] <= PlantPorts_matrix[i, j + 1] * M)\n",
    "# Transportation constraint (min and max weight per carrier)\n",
    "@constraint(model, [j in ports, k in carriers], y[j, k] <= z[j, k] * FreightRates_matrix[k, 5]) # max weight\n",
    "@constraint(model, [j in ports, k in carriers], y[j, k] >= z[j, k] * FreightRates_matrix[k, 4]) # min weight\n",
    "# Valid starting port for carrier constraint\n",
    "for k in carriers\n",
    "    for j in ports\n",
    "        if FreightRates_matrix[k, 2] != j\n",
    "            @constraint(model, z[j, k] == 0)\n",
    "        end\n",
    "    end\n",
    "end\n",
    "\n",
    "# insert objective function    \n",
    "@objective(model, Min, sum(sum(sum(WhCosts_matrix[i, 2] * x[i, j, t] for t in types) for i in plants) for j in ports) + sum(sum(FreightRates_matrix[k, 6] + FreightRates_matrix[k, 7] * y[j, k] for j in ports) for k in carriers))\n",
    "\n",
    "# solve\n",
    "optimize!(model)"
   ]
  },
  {
   "cell_type": "code",
   "execution_count": 289,
   "id": "1d7f5172-afbd-4e87-84ee-15227615293d",
   "metadata": {},
   "outputs": [
    {
     "data": {
      "text/plain": [
       "3-dimensional DenseAxisArray{Float64,3,...} with index sets:\n",
       "    Dimension 1, 1:16\n",
       "    Dimension 2, 1:11\n",
       "    Dimension 3, 1:772\n",
       "And data, a 16×11×772 Array{Float64, 3}:\n",
       "[:, :, 1] =\n",
       " 0.0  0.0  0.0  0.0  0.0  0.0  0.0  0.0  0.0  0.0  0.0\n",
       " 0.0  0.0  0.0  0.0  0.0  0.0  0.0  0.0  0.0  0.0  0.0\n",
       " 0.0  0.0  0.0  0.0  0.0  0.0  0.0  0.0  0.0  0.0  0.0\n",
       " 0.0  0.0  0.0  0.0  0.0  0.0  0.0  0.0  0.0  0.0  0.0\n",
       " 0.0  0.0  0.0  0.0  0.0  0.0  0.0  0.0  0.0  0.0  0.0\n",
       " 0.0  0.0  0.0  0.0  0.0  0.0  0.0  0.0  0.0  0.0  0.0\n",
       " 0.0  0.0  0.0  0.0  0.0  0.0  0.0  0.0  0.0  0.0  0.0\n",
       " 0.0  0.0  0.0  0.0  0.0  0.0  0.0  0.0  0.0  0.0  0.0\n",
       " 0.0  0.0  0.0  0.0  0.0  0.0  0.0  0.0  0.0  0.0  0.0\n",
       " 0.0  0.0  0.0  0.0  0.0  0.0  0.0  0.0  0.0  0.0  0.0\n",
       " 0.0  0.0  0.0  0.0  0.0  0.0  0.0  0.0  0.0  0.0  0.0\n",
       " 0.0  0.0  0.0  0.0  0.0  0.0  0.0  0.0  0.0  0.0  0.0\n",
       " 0.0  0.0  0.0  0.0  0.0  0.0  0.0  0.0  0.0  0.0  0.0\n",
       " 0.0  0.0  0.0  0.0  0.0  0.0  0.0  0.0  0.0  0.0  0.0\n",
       " 0.0  0.0  0.0  0.0  0.0  0.0  0.0  0.0  0.0  0.0  0.0\n",
       " 0.0  0.0  0.0  0.0  0.0  0.0  0.0  0.0  0.0  0.0  0.0\n",
       "\n",
       "[:, :, 2] =\n",
       " 0.0  0.0  0.0  0.0  0.0  0.0  0.0  0.0  0.0  0.0  0.0\n",
       " 0.0  0.0  0.0  0.0  0.0  0.0  0.0  0.0  0.0  0.0  0.0\n",
       " 0.0  0.0  0.0  1.0  0.0  0.0  0.0  0.0  0.0  0.0  0.0\n",
       " 0.0  0.0  0.0  0.0  0.0  0.0  0.0  0.0  0.0  0.0  0.0\n",
       " 0.0  0.0  0.0  0.0  0.0  0.0  0.0  0.0  0.0  0.0  0.0\n",
       " 0.0  0.0  0.0  0.0  0.0  0.0  0.0  0.0  0.0  0.0  0.0\n",
       " 0.0  0.0  0.0  0.0  0.0  0.0  0.0  0.0  0.0  0.0  0.0\n",
       " 0.0  0.0  0.0  0.0  0.0  0.0  0.0  0.0  0.0  0.0  0.0\n",
       " 0.0  0.0  0.0  0.0  0.0  0.0  0.0  0.0  0.0  0.0  0.0\n",
       " 0.0  0.0  0.0  0.0  0.0  0.0  0.0  0.0  0.0  0.0  0.0\n",
       " 0.0  0.0  0.0  0.0  0.0  0.0  0.0  0.0  0.0  0.0  0.0\n",
       " 0.0  0.0  0.0  0.0  0.0  0.0  0.0  0.0  0.0  0.0  0.0\n",
       " 0.0  0.0  0.0  0.0  0.0  0.0  0.0  0.0  0.0  0.0  0.0\n",
       " 0.0  0.0  0.0  0.0  0.0  0.0  0.0  0.0  0.0  0.0  0.0\n",
       " 0.0  0.0  0.0  0.0  0.0  0.0  0.0  0.0  0.0  0.0  0.0\n",
       " 0.0  0.0  0.0  0.0  0.0  0.0  0.0  0.0  0.0  0.0  0.0\n",
       "\n",
       "[:, :, 3] =\n",
       " 0.0  0.0  0.0  0.0  0.0  0.0  0.0  0.0  0.0  0.0  0.0\n",
       " 0.0  0.0  0.0  0.0  0.0  0.0  0.0  0.0  0.0  0.0  0.0\n",
       " 0.0  0.0  0.0  0.0  0.0  0.0  0.0  0.0  0.0  0.0  0.0\n",
       " 0.0  0.0  0.0  0.0  0.0  0.0  0.0  0.0  0.0  0.0  0.0\n",
       " 0.0  0.0  0.0  0.0  0.0  0.0  0.0  0.0  0.0  0.0  0.0\n",
       " 0.0  0.0  0.0  0.0  0.0  0.0  0.0  0.0  0.0  0.0  0.0\n",
       " 0.0  0.0  0.0  0.0  0.0  0.0  0.0  0.0  0.0  0.0  0.0\n",
       " 0.0  0.0  0.0  0.0  0.0  0.0  0.0  0.0  0.0  0.0  0.0\n",
       " 0.0  0.0  0.0  0.0  0.0  0.0  0.0  0.0  0.0  0.0  0.0\n",
       " 0.0  0.0  0.0  0.0  0.0  0.0  0.0  0.0  0.0  0.0  0.0\n",
       " 0.0  0.0  0.0  0.0  0.0  0.0  0.0  0.0  0.0  0.0  0.0\n",
       " 0.0  0.0  0.0  2.0  0.0  0.0  0.0  0.0  0.0  0.0  0.0\n",
       " 0.0  0.0  0.0  0.0  0.0  0.0  0.0  0.0  0.0  0.0  0.0\n",
       " 0.0  0.0  0.0  0.0  0.0  0.0  0.0  0.0  0.0  0.0  0.0\n",
       " 0.0  0.0  0.0  0.0  0.0  0.0  0.0  0.0  0.0  0.0  0.0\n",
       " 0.0  0.0  0.0  0.0  0.0  0.0  0.0  0.0  0.0  0.0  0.0\n",
       "\n",
       "...\n",
       "\n",
       "[:, :, 770] =\n",
       " 0.0  0.0  0.0  0.0  0.0  0.0  0.0  0.0     0.0  0.0  0.0\n",
       " 0.0  0.0  0.0  0.0  0.0  0.0  0.0  0.0     0.0  0.0  0.0\n",
       " 0.0  0.0  0.0  0.0  0.0  0.0  0.0  0.0     0.0  0.0  0.0\n",
       " 0.0  0.0  0.0  0.0  0.0  0.0  0.0  0.0     0.0  0.0  0.0\n",
       " 0.0  0.0  0.0  0.0  0.0  0.0  0.0  0.0     0.0  0.0  0.0\n",
       " 0.0  0.0  0.0  0.0  0.0  0.0  0.0  0.0     0.0  0.0  0.0\n",
       " 0.0  0.0  0.0  0.0  0.0  0.0  0.0  0.0     0.0  0.0  0.0\n",
       " 0.0  0.0  0.0  0.0  0.0  0.0  0.0  0.0     0.0  0.0  0.0\n",
       " 0.0  0.0  0.0  0.0  0.0  0.0  0.0  0.0     0.0  0.0  0.0\n",
       " 0.0  0.0  0.0  0.0  0.0  0.0  0.0  0.0     0.0  0.0  0.0\n",
       " 0.0  0.0  0.0  0.0  0.0  0.0  0.0  0.0     0.0  0.0  0.0\n",
       " 0.0  0.0  0.0  0.0  0.0  0.0  0.0  0.0     0.0  0.0  0.0\n",
       " 0.0  0.0  0.0  0.0  0.0  0.0  0.0  0.0     0.0  0.0  0.0\n",
       " 0.0  0.0  0.0  0.0  0.0  0.0  0.0  0.0     0.0  0.0  0.0\n",
       " 0.0  0.0  0.0  0.0  0.0  0.0  0.0  0.0  1537.0  0.0  0.0\n",
       " 0.0  0.0  0.0  0.0  0.0  0.0  0.0  0.0     0.0  0.0  0.0\n",
       "\n",
       "[:, :, 771] =\n",
       " 0.0  0.0  0.0  0.0  0.0  0.0  0.0  0.0     0.0  0.0  0.0\n",
       " 0.0  0.0  0.0  0.0  0.0  0.0  0.0  0.0     0.0  0.0  0.0\n",
       " 0.0  0.0  0.0  0.0  0.0  0.0  0.0  0.0     0.0  0.0  0.0\n",
       " 0.0  0.0  0.0  0.0  0.0  0.0  0.0  0.0     0.0  0.0  0.0\n",
       " 0.0  0.0  0.0  0.0  0.0  0.0  0.0  0.0     0.0  0.0  0.0\n",
       " 0.0  0.0  0.0  0.0  0.0  0.0  0.0  0.0     0.0  0.0  0.0\n",
       " 0.0  0.0  0.0  0.0  0.0  0.0  0.0  0.0     0.0  0.0  0.0\n",
       " 0.0  0.0  0.0  0.0  0.0  0.0  0.0  0.0     0.0  0.0  0.0\n",
       " 0.0  0.0  0.0  0.0  0.0  0.0  0.0  0.0     0.0  0.0  0.0\n",
       " 0.0  0.0  0.0  0.0  0.0  0.0  0.0  0.0     0.0  0.0  0.0\n",
       " 0.0  0.0  0.0  0.0  0.0  0.0  0.0  0.0     0.0  0.0  0.0\n",
       " 0.0  0.0  0.0  0.0  0.0  0.0  0.0  0.0     0.0  0.0  0.0\n",
       " 0.0  0.0  0.0  0.0  0.0  0.0  0.0  0.0     0.0  0.0  0.0\n",
       " 0.0  0.0  0.0  0.0  0.0  0.0  0.0  0.0     0.0  0.0  0.0\n",
       " 0.0  0.0  0.0  0.0  0.0  0.0  0.0  0.0  1538.0  0.0  0.0\n",
       " 0.0  0.0  0.0  0.0  0.0  0.0  0.0  0.0     0.0  0.0  0.0\n",
       "\n",
       "[:, :, 772] =\n",
       " 0.0  0.0  0.0  0.0  0.0  0.0  0.0  0.0     0.0  0.0  0.0\n",
       " 0.0  0.0  0.0  0.0  0.0  0.0  0.0  0.0     0.0  0.0  0.0\n",
       " 0.0  0.0  0.0  0.0  0.0  0.0  0.0  0.0     0.0  0.0  0.0\n",
       " 0.0  0.0  0.0  0.0  0.0  0.0  0.0  0.0     0.0  0.0  0.0\n",
       " 0.0  0.0  0.0  0.0  0.0  0.0  0.0  0.0     0.0  0.0  0.0\n",
       " 0.0  0.0  0.0  0.0  0.0  0.0  0.0  0.0     0.0  0.0  0.0\n",
       " 0.0  0.0  0.0  0.0  0.0  0.0  0.0  0.0     0.0  0.0  0.0\n",
       " 0.0  0.0  0.0  0.0  0.0  0.0  0.0  0.0     0.0  0.0  0.0\n",
       " 0.0  0.0  0.0  0.0  0.0  0.0  0.0  0.0     0.0  0.0  0.0\n",
       " 0.0  0.0  0.0  0.0  0.0  0.0  0.0  0.0     0.0  0.0  0.0\n",
       " 0.0  0.0  0.0  0.0  0.0  0.0  0.0  0.0     0.0  0.0  0.0\n",
       " 0.0  0.0  0.0  0.0  0.0  0.0  0.0  0.0     0.0  0.0  0.0\n",
       " 0.0  0.0  0.0  0.0  0.0  0.0  0.0  0.0     0.0  0.0  0.0\n",
       " 0.0  0.0  0.0  0.0  0.0  0.0  0.0  0.0     0.0  0.0  0.0\n",
       " 0.0  0.0  0.0  0.0  0.0  0.0  0.0  0.0  1539.0  0.0  0.0\n",
       " 0.0  0.0  0.0  0.0  0.0  0.0  0.0  0.0     0.0  0.0  0.0"
      ]
     },
     "execution_count": 289,
     "metadata": {},
     "output_type": "execute_result"
    }
   ],
   "source": [
    "JuMP.value.(x)"
   ]
  },
  {
   "cell_type": "code",
   "execution_count": 290,
   "id": "3575c73f-9d2f-44fc-885e-114d82fd5701",
   "metadata": {},
   "outputs": [
    {
     "data": {
      "text/plain": [
       "16-element Vector{Any}:\n",
       "      0.0\n",
       "      0.0\n",
       " 395970.0\n",
       "  39179.0\n",
       "  16342.0\n",
       "      0.0\n",
       "   8488.0\n",
       "    509.0\n",
       "   9546.0\n",
       "  48868.0\n",
       "      0.0\n",
       "  26040.0\n",
       "  14042.0\n",
       "      0.0\n",
       "  27218.0\n",
       "      0.0"
      ]
     },
     "execution_count": 290,
     "metadata": {},
     "output_type": "execute_result"
    }
   ],
   "source": [
    "produced = []\n",
    "xvalues = JuMP.value.(x)\n",
    "\n",
    "for i in plants\n",
    "    sum = 0\n",
    "    for j in ports\n",
    "        for t in types\n",
    "            sum += xvalues[i, j, t]\n",
    "        end\n",
    "    end\n",
    "    append!(produced, sum)\n",
    "end\n",
    "\n",
    "produced"
   ]
  },
  {
   "cell_type": "code",
   "execution_count": 291,
   "id": "93424c97-f26b-4c51-89eb-67e711d2f140",
   "metadata": {},
   "outputs": [
    {
     "data": {
      "text/plain": [
       "2-dimensional DenseAxisArray{Float64,2,...} with index sets:\n",
       "    Dimension 1, 1:11\n",
       "    Dimension 2, 1:1540\n",
       "And data, a 11×1540 Matrix{Float64}:\n",
       " 0.0  0.0  0.0  0.0  0.0  0.0  0.0  0.0  …  0.0  0.0  0.0  0.0  0.0  0.0  0.0\n",
       " 0.0  0.0  0.0  0.0  0.0  0.0  0.0  0.0     0.0  0.0  0.0  0.0  0.0  0.0  0.0\n",
       " 0.0  0.0  0.0  0.0  0.0  0.0  0.0  0.0     0.0  0.0  0.0  0.0  0.0  0.0  0.0\n",
       " 0.0  0.0  0.0  0.0  0.0  0.0  0.0  0.0     0.0  0.0  0.0  0.0  0.0  0.0  0.0\n",
       " 0.0  0.0  0.0  0.0  0.0  0.0  0.0  0.0     0.0  0.0  0.0  0.0  0.0  0.0  0.0\n",
       " 0.0  0.0  0.0  0.0  0.0  0.0  0.0  0.0  …  0.0  0.0  0.0  0.0  0.0  0.0  0.0\n",
       " 0.0  0.0  0.0  0.0  0.0  0.0  0.0  0.0     0.0  0.0  0.0  0.0  0.0  0.0  0.0\n",
       " 0.0  0.0  0.0  0.0  0.0  0.0  0.0  0.0     0.0  0.0  0.0  0.0  0.0  0.0  0.0\n",
       " 0.0  0.0  0.0  0.0  0.0  0.0  0.0  0.0     0.0  0.0  0.0  0.0  0.0  0.0  0.0\n",
       " 0.0  0.0  0.0  0.0  0.0  0.0  0.0  0.0     0.0  0.0  0.0  0.0  0.0  0.0  0.0\n",
       " 0.0  0.0  0.0  0.0  0.0  0.0  0.0  0.0  …  0.0  0.0  0.0  0.0  0.0  0.0  0.0"
      ]
     },
     "execution_count": 291,
     "metadata": {},
     "output_type": "execute_result"
    }
   ],
   "source": [
    "JuMP.value.(y)"
   ]
  },
  {
   "cell_type": "code",
   "execution_count": 292,
   "id": "34851af3-a70a-4a9a-95c0-846e035b7a26",
   "metadata": {},
   "outputs": [
    {
     "data": {
      "text/plain": [
       "11-element Vector{Any}:\n",
       "      0.0\n",
       "  57356.0\n",
       "      0.0\n",
       " 446107.0\n",
       "  39179.0\n",
       "  16342.0\n",
       "      0.0\n",
       "      0.0\n",
       "  27218.0\n",
       "      0.0\n",
       "      0.0"
      ]
     },
     "execution_count": 292,
     "metadata": {},
     "output_type": "execute_result"
    }
   ],
   "source": [
    "transported = []\n",
    "yvalues = JuMP.value.(y)\n",
    "\n",
    "for j in ports\n",
    "    sum = 0\n",
    "    for k in carriers\n",
    "        sum += yvalues[j, k]\n",
    "    end\n",
    "    append!(transported, sum)\n",
    "end\n",
    "transported"
   ]
  },
  {
   "cell_type": "code",
   "execution_count": 294,
   "id": "7033b490-d1a6-4d69-90ef-b03484b6ed23",
   "metadata": {},
   "outputs": [
    {
     "data": {
      "text/plain": [
       "true"
      ]
     },
     "execution_count": 294,
     "metadata": {},
     "output_type": "execute_result"
    }
   ],
   "source": [
    "sum(xvalues) == sum(yvalues)"
   ]
  },
  {
   "cell_type": "code",
   "execution_count": 299,
   "id": "ce1cdf7e-551d-423f-b1a2-42a471084272",
   "metadata": {},
   "outputs": [
    {
     "data": {
      "text/plain": [
       "Dict{Any, Any} with 39 entries:\n",
       "  392 => 99.99\n",
       "  867 => 249.99\n",
       "  52  => 499.99\n",
       "  60  => 99.99\n",
       "  866 => 100000.0\n",
       "  870 => 99.99\n",
       "  864 => 100000.0\n",
       "  53  => 32057.2\n",
       "  187 => 499.99\n",
       "  49  => 249.99\n",
       "  41  => 99.99\n",
       "  43  => 249.99\n",
       "  188 => 100000.0\n",
       "  190 => 100000.0\n",
       "  189 => 249.99\n",
       "  185 => 1999.99\n",
       "  39  => 1999.99\n",
       "  51  => 1999.99\n",
       "  61  => 499.99\n",
       "  865 => 249.99\n",
       "  394 => 13492.0\n",
       "  861 => 1999.99\n",
       "  868 => 499.99\n",
       "  869 => 1999.99\n",
       "  393 => 1999.99\n",
       "  ⋮   => ⋮"
      ]
     },
     "execution_count": 299,
     "metadata": {},
     "output_type": "execute_result"
    }
   ],
   "source": [
    "carriers_used = Dict()\n",
    "\n",
    "for k in carriers\n",
    "    sum = 0\n",
    "    for j in ports\n",
    "        sum += yvalues[j, k]\n",
    "    end\n",
    "    if sum != 0\n",
    "        carriers_used[k] = sum\n",
    "    end\n",
    "end\n",
    "\n",
    "carriers_used"
   ]
  },
  {
   "cell_type": "code",
   "execution_count": 302,
   "id": "4abbb924-a90a-4a35-949c-e88630f742ce",
   "metadata": {},
   "outputs": [
    {
     "data": {
      "text/plain": [
       "11-element Vector{Any}:\n",
       "  0\n",
       " 16\n",
       " 29\n",
       " 29\n",
       "  6\n",
       " 11\n",
       "  4\n",
       "  5\n",
       " 12\n",
       "  6\n",
       "  7"
      ]
     },
     "execution_count": 302,
     "metadata": {},
     "output_type": "execute_result"
    }
   ],
   "source": [
    "zvalues = JuMP.value.(z)\n",
    "carriers_from_port = []\n",
    "for j in ports\n",
    "    sum = 0\n",
    "    for k in carriers\n",
    "        if zvalues[j, k] != 0\n",
    "            sum += 1\n",
    "        end\n",
    "    end\n",
    "    append!(carriers_from_port, sum)\n",
    "end\n",
    "\n",
    "carriers_from_port"
   ]
  }
 ],
 "metadata": {
  "kernelspec": {
   "display_name": "Julia 1.9.2",
   "language": "julia",
   "name": "julia-1.9"
  },
  "language_info": {
   "file_extension": ".jl",
   "mimetype": "application/julia",
   "name": "julia",
   "version": "1.9.2"
  }
 },
 "nbformat": 4,
 "nbformat_minor": 5
}
